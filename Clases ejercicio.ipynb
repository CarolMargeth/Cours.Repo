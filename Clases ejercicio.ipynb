{
  "metadata": {
    "language_info": {
      "codemirror_mode": {
        "name": "python",
        "version": 3
      },
      "file_extension": ".py",
      "mimetype": "text/x-python",
      "name": "python",
      "nbconvert_exporter": "python",
      "pygments_lexer": "ipython3",
      "version": "3.8"
    },
    "kernelspec": {
      "name": "python",
      "display_name": "Python (Pyodide)",
      "language": "python"
    }
  },
  "nbformat_minor": 4,
  "nbformat": 4,
  "cells": [
    {
      "cell_type": "code",
      "source": "class analysedText(object):\n    \n    def __init__ (self, text):\n#        print(text)\n        # TODO: Remove the punctuation from <text> and make it lower case.\n        fmtText = text.replace(\".\",\"\").replace(\"!\",\"\").replace(\",\",\"\").replace(\"?\",\"\")\n        fmtText = fmtText.lower()\n        # TODO: Assign the formatted text to a new attribute called \"fmtText\"\n        self.fmtText = fmtText\n        # pass\n        #return fmtText\n    \n    def freqAll(self):    \n\n        # TODO: Split the text into a list of words  \n        ListOfWords = self.fmtText.split(\" \")\n        # TODO: Create a dictionary with the unique words in the text as keys\n        #print(ListOfWords)\n        # and the number of times they occur in the text as values\n        #print(Dictionarie)\n        FreqWord = dict()\n        for word in set(ListOfWords):\n            #print(word)\n            FreqWord[word] = ListOfWords.count(word)\n        return FreqWord\n    \n    def freqOf(self, word):\n\n        # TODO: return the number of occurrences of <word> in <fmtText>\n        if word in self.freqAll():\n            print (\"The word is the text\")\n            return self.freqAll()[word]\n        else:\n            return 0\n            print (\"The word is not in the text\")",
      "metadata": {
        "trusted": true
      },
      "execution_count": 17,
      "outputs": []
    },
    {
      "cell_type": "code",
      "source": "sergiosText = analysedText(\"Hola. Soy . Sergio , y ! no se, puntuar las. oraciones?\")\nsergiosText",
      "metadata": {
        "trusted": true
      },
      "execution_count": 19,
      "outputs": [
        {
          "execution_count": 19,
          "output_type": "execute_result",
          "data": {
            "text/plain": "<__main__.analysedText at 0x3339948>"
          },
          "metadata": {}
        }
      ]
    },
    {
      "cell_type": "code",
      "source": "sergiosText.fmtText",
      "metadata": {
        "trusted": true
      },
      "execution_count": 10,
      "outputs": [
        {
          "execution_count": 10,
          "output_type": "execute_result",
          "data": {
            "text/plain": "'hola soy  sergio  y  no se puntuar las oraciones'"
          },
          "metadata": {}
        }
      ]
    },
    {
      "cell_type": "code",
      "source": "sergiosText.freqAll()",
      "metadata": {
        "trusted": true
      },
      "execution_count": 13,
      "outputs": [
        {
          "execution_count": 13,
          "output_type": "execute_result",
          "data": {
            "text/plain": "{'': 3,\n 'no': 1,\n 'se': 1,\n 'soy': 1,\n 'sergio': 1,\n 'oraciones': 1,\n 'puntuar': 1,\n 'y': 1,\n 'hola': 1,\n 'las': 1}"
          },
          "metadata": {}
        }
      ]
    },
    {
      "cell_type": "code",
      "source": "sergiosText.freqOf('sergio')",
      "metadata": {
        "trusted": true
      },
      "execution_count": 21,
      "outputs": [
        {
          "name": "stdout",
          "text": "The word is the text\n",
          "output_type": "stream"
        },
        {
          "execution_count": 21,
          "output_type": "execute_result",
          "data": {
            "text/plain": "1"
          },
          "metadata": {}
        }
      ]
    },
    {
      "cell_type": "code",
      "source": "sergiosText.freqOf('')",
      "metadata": {
        "trusted": true
      },
      "execution_count": 23,
      "outputs": [
        {
          "name": "stdout",
          "text": "The word is the text\n",
          "output_type": "stream"
        },
        {
          "execution_count": 23,
          "output_type": "execute_result",
          "data": {
            "text/plain": "3"
          },
          "metadata": {}
        }
      ]
    },
    {
      "cell_type": "code",
      "source": "carolsText = analysedText(\"Hola. Soy . Carol con las nalgas más hermosas\")",
      "metadata": {
        "trusted": true
      },
      "execution_count": 25,
      "outputs": []
    },
    {
      "cell_type": "code",
      "source": "sergiosText.freqAll()",
      "metadata": {
        "trusted": true
      },
      "execution_count": 28,
      "outputs": [
        {
          "execution_count": 28,
          "output_type": "execute_result",
          "data": {
            "text/plain": "{'': 3,\n 'no': 1,\n 'se': 1,\n 'soy': 1,\n 'sergio': 1,\n 'oraciones': 1,\n 'puntuar': 1,\n 'y': 1,\n 'hola': 1,\n 'las': 1}"
          },
          "metadata": {}
        }
      ]
    },
    {
      "cell_type": "code",
      "source": "carolsText.freqAll()",
      "metadata": {
        "trusted": true
      },
      "execution_count": 30,
      "outputs": [
        {
          "execution_count": 30,
          "output_type": "execute_result",
          "data": {
            "text/plain": "{'': 1,\n 'carol': 1,\n 'soy': 1,\n 'nalgas': 1,\n 'hermosas': 1,\n 'con': 1,\n 'hola': 1,\n 'las': 1,\n 'más': 1}"
          },
          "metadata": {}
        }
      ]
    },
    {
      "cell_type": "code",
      "source": "sergiosText",
      "metadata": {
        "trusted": true
      },
      "execution_count": 31,
      "outputs": [
        {
          "execution_count": 31,
          "output_type": "execute_result",
          "data": {
            "text/plain": "<__main__.analysedText at 0x3339948>"
          },
          "metadata": {}
        }
      ]
    },
    {
      "cell_type": "code",
      "source": "carolsText",
      "metadata": {
        "trusted": true
      },
      "execution_count": 32,
      "outputs": [
        {
          "execution_count": 32,
          "output_type": "execute_result",
          "data": {
            "text/plain": "<__main__.analysedText at 0x2bed218>"
          },
          "metadata": {}
        }
      ]
    }
  ]
}